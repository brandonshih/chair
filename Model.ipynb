{
 "cells": [
  {
   "cell_type": "code",
   "execution_count": 1,
   "metadata": {},
   "outputs": [
    {
     "data": {
      "text/plain": [
       "'C:\\\\Users\\\\user'"
      ]
     },
     "execution_count": 1,
     "metadata": {},
     "output_type": "execute_result"
    }
   ],
   "source": [
    "pwd"
   ]
  },
  {
   "cell_type": "code",
   "execution_count": 2,
   "metadata": {},
   "outputs": [
    {
     "name": "stdout",
     "output_type": "stream",
     "text": [
      "Num GPUs Available:  1\n",
      "WARNING:tensorflow:From <ipython-input-2-3e1b5a674b1d>:6: is_gpu_available (from tensorflow.python.framework.test_util) is deprecated and will be removed in a future version.\n",
      "Instructions for updating:\n",
      "Use `tf.config.list_physical_devices('GPU')` instead.\n"
     ]
    },
    {
     "data": {
      "text/plain": [
       "[PhysicalDevice(name='/physical_device:GPU:0', device_type='GPU')]"
      ]
     },
     "execution_count": 2,
     "metadata": {},
     "output_type": "execute_result"
    }
   ],
   "source": [
    "from __future__ import absolute_import, division, print_function, unicode_literals\n",
    "\n",
    "import tensorflow as tf\n",
    "print(\"Num GPUs Available: \", len(tf.config.experimental.list_physical_devices('GPU')))\n",
    "\n",
    "tf.test.is_gpu_available(cuda_only=False, min_cuda_compute_capability=None)\n",
    "\n",
    "tf.config.list_physical_devices('GPU')"
   ]
  },
  {
   "cell_type": "code",
   "execution_count": 18,
   "metadata": {},
   "outputs": [
    {
     "name": "stdout",
     "output_type": "stream",
     "text": [
      "The tensorboard extension is already loaded. To reload it, use:\n",
      "  %reload_ext tensorboard\n"
     ]
    }
   ],
   "source": [
    "import time\n",
    "import sys\n",
    "import datetime, os\n",
    "import numpy as np\n",
    "import pandas as pd\n",
    "import matplotlib.pyplot as plt\n",
    "import tensorflow as tf\n",
    "import cv2\n",
    "import seaborn as sns\n",
    "from tensorboard import notebook\n",
    "%load_ext tensorboard\n",
    "\n",
    "from sklearn import metrics\n",
    "from sklearn.metrics import confusion_matrix \n",
    "from sklearn.metrics import accuracy_score\n",
    "from sklearn.metrics import classification_report \n",
    "from sklearn.metrics import roc_curve\n",
    "from sklearn.metrics import auc\n",
    "from sklearn.metrics import precision_recall_curve\n",
    "from sklearn.metrics import average_precision_score\n",
    "\n",
    "from tensorflow.keras.applications.inception_v3 import InceptionV3\n",
    "from tensorflow.keras.preprocessing.image import ImageDataGenerator\n",
    "from tensorflow.keras.preprocessing import image\n",
    "from tensorflow.keras.applications.inception_v3 import preprocess_input, decode_predictions\n",
    "\n",
    "from tensorflow.keras.models import Model\n",
    "from tensorflow.keras.layers import Dense, GlobalAveragePooling2D, BatchNormalization\n",
    "from tensorflow.keras import regularizers\n",
    "from tensorflow.keras import backend as K\n",
    "from keras.utils.layer_utils import count_params\n",
    "\n",
    "from tensorflow.keras.optimizers import Adam\n",
    "from tensorflow.keras import losses\n",
    "from tensorflow.keras.models import load_model\n",
    "from tensorflow.keras.callbacks import LearningRateScheduler\n",
    "from tensorflow.keras.callbacks import ReduceLROnPlateau\n",
    "from tensorflow.keras.callbacks import EarlyStopping\n",
    "from tensorflow.keras.callbacks import TensorBoard\n"
   ]
  },
  {
   "cell_type": "code",
   "execution_count": 4,
   "metadata": {},
   "outputs": [],
   "source": [
    "# Define Image Augmentation and Training Parameters\n",
    "\n",
    "class Config:\n",
    "    # Data Augmentation Parameters\n",
    "    DATA_AUG_ON = True\n",
    "    DATA_AUG_ROTATE = 20\n",
    "    DATA_AUG_FLIP = True\n",
    "    DATA_AUG_WIDTH_SHIFT = 0.2\n",
    "    DATA_AUG_HEIGHT_SHIFT = 0.2\n",
    "    DATA_AUG_ZOOM = 0.2\n",
    "    DATA_AUG_SHEAR = 0.2\n",
    "    # Epoch to start learning rate decay\n",
    "    MODEL_TRAIN_DECAY = True\n",
    "    MODEL_START_DECAY = 0\n",
    "    # Exponential Learning Rate Decay\n",
    "    MODEL_DECAY_EXPONENTIAL = True\n",
    "    MODEL_PERCENT_DECAY = 0.1\n",
    "    # Sigmoidal Learning Rate Decay\n",
    "    MODEL_DECAY_SIGMOID = False\n",
    "    # Drop-Based Learning Rate Decay\n",
    "    MODEL_DECAY_DROP = False\n",
    "    MODEL_DROP_RATE = 0.5\n",
    "    MODEL_EPOCH_DROP = 10\n",
    "    # General Model Parameters\n",
    "    MODEL_TRAIN_EPOCHS = [30]\n",
    "    MODEL_TRAIN_LEARN_RATE = [0.005]\n",
    "    MODEL_TRAIN_BATCH_SIZE = 32\n",
    "    MODEL_TRAIN_FIRST_TRAINABLE_LAYER = 250\n",
    "    \n",
    "config = Config()"
   ]
  },
  {
   "cell_type": "code",
   "execution_count": 5,
   "metadata": {},
   "outputs": [
    {
     "name": "stdout",
     "output_type": "stream",
     "text": [
      "Total Parameters: 21,942,177\n",
      "Trainable Parameters: 10,676,737\n",
      "Non-Trainable Parameters: 11,265,440\n"
     ]
    }
   ],
   "source": [
    "# Define Base Model\n",
    "\n",
    "base_model = InceptionV3(weights = 'imagenet', include_top = False)\n",
    "\n",
    "MODEL_TRAINABLE_BASE = True\n",
    "\n",
    "if MODEL_TRAINABLE_BASE:\n",
    "    base_model.trainable = True\n",
    "    if config.MODEL_TRAIN_FIRST_TRAINABLE_LAYER:\n",
    "        for layer in base_model.layers[:config.MODEL_TRAIN_FIRST_TRAINABLE_LAYER]:\n",
    "            layer.trainable = False\n",
    "        for layer in base_model.layers[config.MODEL_TRAIN_FIRST_TRAINABLE_LAYER:]:\n",
    "            layer.trainable = True\n",
    "else:\n",
    "    base_model.trainable = False\n",
    "\n",
    "x = base_model.output\n",
    "x = GlobalAveragePooling2D()(x)\n",
    "x = BatchNormalization()(x)\n",
    "x = Dense(64, activation = 'relu', kernel_regularizer = regularizers.l2(5e-3),\n",
    "                bias_regularizer = regularizers.l2(5e-3))(x)\n",
    "x = Dense(1, activation = 'sigmoid', name = 'output')(x)\n",
    "\n",
    "model = Model(inputs = base_model.input, outputs = x)\n",
    "\n",
    "# print(model.summary())\n",
    "\n",
    "trainable_count = count_params(model.trainable_weights)\n",
    "non_trainable_count = count_params(model.non_trainable_weights)\n",
    "print('Total Parameters: {:,}'.format(trainable_count + non_trainable_count))\n",
    "print('Trainable Parameters: {:,}'.format(trainable_count))\n",
    "print('Non-Trainable Parameters: {:,}'.format(non_trainable_count))"
   ]
  },
  {
   "cell_type": "code",
   "execution_count": 6,
   "metadata": {},
   "outputs": [
    {
     "name": "stdout",
     "output_type": "stream",
     "text": [
      "Found 2197 images belonging to 2 classes.\n",
      "Found 37 images belonging to 2 classes.\n",
      "Found 2700 images belonging to 1 classes.\n"
     ]
    },
    {
     "data": {
      "text/plain": [
       "{'emptyChair': 0, 'inChair': 1}"
      ]
     },
     "execution_count": 6,
     "metadata": {},
     "output_type": "execute_result"
    }
   ],
   "source": [
    "if config.DATA_AUG_ON:\n",
    "    train_datagen = ImageDataGenerator(preprocessing_function = preprocess_input,\n",
    "                                       rotation_range = config.DATA_AUG_ROTATE,\n",
    "                                       horizontal_flip = config.DATA_AUG_FLIP,\n",
    "                                       width_shift_range = config.DATA_AUG_WIDTH_SHIFT,\n",
    "                                       height_shift_range = config.DATA_AUG_HEIGHT_SHIFT,\n",
    "                                       zoom_range = config.DATA_AUG_ZOOM,\n",
    "                                       shear_range = config.DATA_AUG_SHEAR)\n",
    "\n",
    "else:\n",
    "    train_datagen = ImageDataGenerator(preprocessing_function = preprocess_input)\n",
    "    \n",
    "valid_datagen = ImageDataGenerator(preprocessing_function = preprocess_input)\n",
    "test_datagen = ImageDataGenerator(preprocessing_function = preprocess_input)\n",
    "    \n",
    "train_generator = train_datagen.flow_from_directory('C:\\\\Users\\\\user\\\\chair_model\\\\training',\n",
    "                                              target_size = (299, 299),\n",
    "                                              color_mode = 'rgb',\n",
    "                                              classes = ['emptyChair', 'inChair'],\n",
    "                                              batch_size = config.MODEL_TRAIN_BATCH_SIZE,\n",
    "                                              seed = 724,\n",
    "                                              class_mode = 'binary',\n",
    "                                              shuffle = False)\n",
    "\n",
    "validation_generator = valid_datagen.flow_from_directory('C:\\\\Users\\\\user\\\\chair_model\\\\valid',\n",
    "                                              target_size = (299, 299),\n",
    "                                              color_mode = 'rgb',\n",
    "                                              classes = ['emptyChair', 'inChair'],\n",
    "                                              batch_size = config.MODEL_TRAIN_BATCH_SIZE,\n",
    "                                              seed = 724,\n",
    "                                              class_mode = 'binary',\n",
    "                                              shuffle = False)\n",
    "\n",
    "test_generator = test_datagen.flow_from_directory('C:\\\\Users\\\\user\\\\chair_model\\\\test',\n",
    "                                              target_size = (299, 299),\n",
    "                                              color_mode = 'rgb',\n",
    "                                              batch_size = 1,\n",
    "                                              seed = 724,\n",
    "                                              class_mode = None,\n",
    "                                              shuffle = False)\n",
    "\n",
    "STEP_SIZE_TRAIN = train_generator.n//train_generator.batch_size\n",
    "STEP_SIZE_VALID = validation_generator.n//validation_generator.batch_size\n",
    "STEP_SIZE_TEST = test_generator.n//test_generator.batch_size\n",
    "\n",
    "train_generator.class_indices"
   ]
  },
  {
   "cell_type": "code",
   "execution_count": 7,
   "metadata": {},
   "outputs": [],
   "source": [
    "model.compile(optimizer = Adam(lr = config.MODEL_TRAIN_LEARN_RATE[0]),\n",
    "              loss = losses.BinaryCrossentropy(),\n",
    "              metrics = ['binary_accuracy'])"
   ]
  },
  {
   "cell_type": "code",
   "execution_count": 8,
   "metadata": {},
   "outputs": [
    {
     "data": {
      "image/png": "[encoded data removed]",
      "text/plain": [
       "<Figure size 432x288 with 1 Axes>"
      ]
     },
     "metadata": {
      "needs_background": "light"
     },
     "output_type": "display_data"
    }
   ],
   "source": [
    "# Learning Rate Decay Graph\n",
    "decay = []\n",
    "def scheduler(epoch):\n",
    "    learn_rate = config.MODEL_TRAIN_LEARN_RATE[0]\n",
    "    total_epochs = config.MODEL_TRAIN_EPOCHS[0]\n",
    "    \n",
    "    if config.MODEL_TRAIN_DECAY:\n",
    "        \n",
    "        if epoch < config.MODEL_START_DECAY:\n",
    "            value = learn_rate\n",
    "            decay.append(value)\n",
    "            return value\n",
    "        \n",
    "        else:\n",
    "            if config.MODEL_DECAY_EXPONENTIAL: \n",
    "                value = learn_rate * tf.math.exp(\n",
    "                        config.MODEL_PERCENT_DECAY * (config.MODEL_START_DECAY - epoch))\n",
    "                \n",
    "            if config.MODEL_DECAY_SIGMOID:\n",
    "                decay_rate = learn_rate / total_epochs\n",
    "                value = learn_rate * 1/(1 + decay_rate * epoch)\n",
    "                \n",
    "            if config.MODEL_DECAY_DROP:\n",
    "                value = learn_rate * np.power(\n",
    "                        config.MODEL_DROP_RATE, np.floor((1+epoch)/ config.MODEL_EPOCH_DROP))\n",
    "                \n",
    "            decay.append(value)\n",
    "            return value\n",
    "        \n",
    "    else:\n",
    "        return config.MODEL_TRAIN_LEARN_RATE[0]\n",
    "\n",
    "for x in np.arange(0, config.MODEL_TRAIN_EPOCHS[0] + 1):\n",
    "    scheduler(x)\n",
    "    \n",
    "plt.plot(np.linspace(0, config.MODEL_TRAIN_EPOCHS[0], config.MODEL_TRAIN_EPOCHS[0] + 1), decay)\n",
    "plt.xlabel('Epoch')\n",
    "plt.ylabel('Learning Rate')\n",
    "plt.title('Learning Rate Decay')\n",
    "plt.grid()\n",
    "plt.show()"
   ]
  },
  {
   "cell_type": "code",
   "execution_count": 16,
   "metadata": {
    "scrolled": true
   },
   "outputs": [
    {
     "name": "stdout",
     "output_type": "stream",
     "text": [
      "WARNING:tensorflow:sample_weight modes were coerced from\n",
      "  ...\n",
      "    to  \n",
      "  ['...']\n",
      "WARNING:tensorflow:sample_weight modes were coerced from\n",
      "  ...\n",
      "    to  \n",
      "  ['...']\n",
      "Train for 68 steps, validate for 1 steps\n",
      "Epoch 1/30\n",
      "68/68 [==============================] - 72s 1s/step - loss: 0.3014 - binary_accuracy: 0.9284 - val_loss: 0.7060 - val_binary_accuracy: 0.7500\n",
      "Epoch 2/30\n",
      "68/68 [==============================] - 69s 1s/step - loss: 0.2427 - binary_accuracy: 0.9441 - val_loss: 1.1379 - val_binary_accuracy: 0.4375\n",
      "Epoch 3/30\n",
      "68/68 [==============================] - 70s 1s/step - loss: 0.2048 - binary_accuracy: 0.9584 - val_loss: 0.9950 - val_binary_accuracy: 0.5312\n",
      "Epoch 4/30\n",
      "68/68 [==============================] - 70s 1s/step - loss: 0.1418 - binary_accuracy: 0.9774 - val_loss: 1.2380 - val_binary_accuracy: 0.5312\n",
      "Epoch 5/30\n",
      "68/68 [==============================] - 70s 1s/step - loss: 0.1298 - binary_accuracy: 0.9806 - val_loss: 0.5997 - val_binary_accuracy: 0.7500\n",
      "Epoch 6/30\n",
      "68/68 [==============================] - 71s 1s/step - loss: 0.1156 - binary_accuracy: 0.9829 - val_loss: 0.5973 - val_binary_accuracy: 0.7812\n",
      "Epoch 7/30\n",
      "68/68 [==============================] - 70s 1s/step - loss: 0.1165 - binary_accuracy: 0.9880 - val_loss: 0.8051 - val_binary_accuracy: 0.6875\n",
      "Epoch 8/30\n",
      "68/68 [==============================] - 69s 1s/step - loss: 0.1433 - binary_accuracy: 0.9852 - val_loss: 1.5306 - val_binary_accuracy: 0.5938\n",
      "Epoch 9/30\n",
      "68/68 [==============================] - 69s 1s/step - loss: 0.3488 - binary_accuracy: 0.9118 - val_loss: 5.9977 - val_binary_accuracy: 0.7812\n",
      "Epoch 10/30\n",
      "68/68 [==============================] - 69s 1s/step - loss: 0.2245 - binary_accuracy: 0.9533 - val_loss: 1.1109 - val_binary_accuracy: 0.6250\n",
      "Epoch 11/30\n",
      "67/68 [============================>.] - ETA: 0s - loss: 0.1195 - binary_accuracy: 0.9920\n",
      "Epoch 00011: ReduceLROnPlateau reducing learning rate to 0.0024999999441206455.\n",
      "68/68 [==============================] - 69s 1s/step - loss: 0.1186 - binary_accuracy: 0.9921 - val_loss: 1.6159 - val_binary_accuracy: 0.5938\n",
      "Epoch 12/30\n",
      "68/68 [==============================] - 68s 1s/step - loss: 0.0744 - binary_accuracy: 0.9954 - val_loss: 0.6981 - val_binary_accuracy: 0.6875\n",
      "Epoch 13/30\n",
      "68/68 [==============================] - 68s 1s/step - loss: 0.0558 - binary_accuracy: 0.9982 - val_loss: 0.7049 - val_binary_accuracy: 0.6562\n",
      "Epoch 14/30\n",
      "68/68 [==============================] - 68s 1s/step - loss: 0.0505 - binary_accuracy: 0.9977 - val_loss: 0.5658 - val_binary_accuracy: 0.7188\n",
      "Epoch 15/30\n",
      "68/68 [==============================] - 68s 1s/step - loss: 0.0439 - binary_accuracy: 0.9995 - val_loss: 0.6544 - val_binary_accuracy: 0.6875\n",
      "Epoch 16/30\n",
      "68/68 [==============================] - 68s 999ms/step - loss: 0.0392 - binary_accuracy: 0.9991 - val_loss: 0.6151 - val_binary_accuracy: 0.6875\n",
      "Epoch 17/30\n",
      "68/68 [==============================] - 68s 1s/step - loss: 0.0369 - binary_accuracy: 0.9986 - val_loss: 0.5710 - val_binary_accuracy: 0.7188\n",
      "Epoch 18/30\n",
      "68/68 [==============================] - 68s 1s/step - loss: 0.0363 - binary_accuracy: 0.9991 - val_loss: 0.5586 - val_binary_accuracy: 0.7500\n",
      "Epoch 19/30\n",
      "68/68 [==============================] - 68s 1s/step - loss: 0.0360 - binary_accuracy: 0.9995 - val_loss: 0.5782 - val_binary_accuracy: 0.6875\n",
      "Epoch 20/30\n",
      "68/68 [==============================] - 68s 1000ms/step - loss: 0.0312 - binary_accuracy: 0.9995 - val_loss: 0.6943 - val_binary_accuracy: 0.5938\n",
      "Epoch 21/30\n",
      "68/68 [==============================] - 68s 1s/step - loss: 0.0320 - binary_accuracy: 0.9991 - val_loss: 0.6593 - val_binary_accuracy: 0.6875\n",
      "Epoch 22/30\n",
      "68/68 [==============================] - 68s 1s/step - loss: 0.0402 - binary_accuracy: 0.9972 - val_loss: 0.7278 - val_binary_accuracy: 0.5938\n",
      "Epoch 23/30\n",
      "67/68 [============================>.] - ETA: 0s - loss: 0.0312 - binary_accuracy: 0.9986\n",
      "Epoch 00023: ReduceLROnPlateau reducing learning rate to 0.0012499999720603228.\n",
      "68/68 [==============================] - 68s 999ms/step - loss: 0.0312 - binary_accuracy: 0.9986 - val_loss: 0.6310 - val_binary_accuracy: 0.6250\n",
      "Epoch 24/30\n",
      "68/68 [==============================] - 68s 1s/step - loss: 0.0287 - binary_accuracy: 0.9995 - val_loss: 0.5585 - val_binary_accuracy: 0.6562\n",
      "Epoch 25/30\n",
      "68/68 [==============================] - 68s 1000ms/step - loss: 0.0242 - binary_accuracy: 1.0000 - val_loss: 0.5650 - val_binary_accuracy: 0.6250\n",
      "Epoch 26/30\n",
      "68/68 [==============================] - 68s 999ms/step - loss: 0.0233 - binary_accuracy: 1.0000 - val_loss: 0.5575 - val_binary_accuracy: 0.6875\n",
      "Epoch 27/30\n",
      "68/68 [==============================] - 68s 1s/step - loss: 0.0230 - binary_accuracy: 1.0000 - val_loss: 0.5080 - val_binary_accuracy: 0.7188\n",
      "Epoch 28/30\n",
      "68/68 [==============================] - 68s 1s/step - loss: 0.0211 - binary_accuracy: 1.0000 - val_loss: 0.5367 - val_binary_accuracy: 0.6562\n",
      "Epoch 29/30\n",
      "68/68 [==============================] - 68s 1s/step - loss: 0.0222 - binary_accuracy: 1.0000 - val_loss: 0.4534 - val_binary_accuracy: 0.7500\n",
      "Epoch 30/30\n",
      "68/68 [==============================] - 68s 1s/step - loss: 0.0199 - binary_accuracy: 1.0000 - val_loss: 0.4653 - val_binary_accuracy: 0.7500\n"
     ]
    }
   ],
   "source": [
    "train_generator.reset()\n",
    "validation_generator.reset()\n",
    "\n",
    "# DIFFERENT CALLBACK FUNCTIONS\n",
    "\n",
    "# Display Learning Rate Each Epoch\n",
    "class MyCallback(tf.keras.callbacks.Callback):\n",
    "    def on_epoch_end(self, epoch, logs=None):\n",
    "        lr = self.model.optimizer.lr\n",
    "        decay = self.model.optimizer.decay\n",
    "        iterations = self.model.optimizer.iterations\n",
    "        lr_with_decay = lr / (1. + decay * K.cast(iterations, K.dtype(decay)))\n",
    "        print('\\nEpoch Learning Rate: ', K.eval(lr_with_decay))\n",
    "        \n",
    "# Reduced learning rate when metric has stopped improving\n",
    "reduced_lr = ReduceLROnPlateau(monitor = 'val_loss', factor = 0.5,\n",
    "                               patience = 5, min_lr = 0.0001, verbose = 1)\n",
    "\n",
    "# Early stopping when monitored quantity has stopped improving\n",
    "early_stop = EarlyStopping()\n",
    "\n",
    "# Tensorboard Callback\n",
    "logdir = os.path.join('logs', datetime.datetime.now().strftime(\"%Y%m%d-%H%M%S\"))\n",
    "tensorboard_callback = TensorBoard(logdir, histogram_freq = 1)\n",
    "\n",
    "learning_rate_scheduler = LearningRateScheduler(scheduler, verbose = 0)\n",
    "call_learning_rate = MyCallback()\n",
    "\n",
    "history = model.fit_generator(generator = train_generator,\n",
    "                              steps_per_epoch = STEP_SIZE_TRAIN,\n",
    "                              validation_data = validation_generator,\n",
    "                              validation_steps = STEP_SIZE_VALID,\n",
    "                              epochs = config.MODEL_TRAIN_EPOCHS[0],\n",
    "                              callbacks = [reduced_lr, tensorboard_callback],\n",
    "                              verbose = 1)"
   ]
  },
  {
   "cell_type": "code",
   "execution_count": 33,
   "metadata": {},
   "outputs": [
    {
     "data": {
      "text/plain": [
       "Reusing TensorBoard on port 6006 (pid 14700), started 0:14:40 ago. (Use '!kill 14700' to kill it.)"
      ]
     },
     "metadata": {},
     "output_type": "display_data"
    },
    {
     "data": {
      "text/html": [
       "\n",
       "      <iframe id=\"tensorboard-frame-2fb13bdb78f1c548\" width=\"100%\" height=\"800\" frameborder=\"0\">\n",
       "      </iframe>\n",
       "      <script>\n",
       "        (function() {\n",
       "          const frame = document.getElementById(\"tensorboard-frame-2fb13bdb78f1c548\");\n",
       "          const url = new URL(\"/\", window.location);\n",
       "          url.port = 6006;\n",
       "          frame.src = url;\n",
       "        })();\n",
       "      </script>\n",
       "  "
      ],
      "text/plain": [
       "<IPython.core.display.HTML object>"
      ]
     },
     "metadata": {},
     "output_type": "display_data"
    }
   ],
   "source": [
    "%tensorboard --logdir logs"
   ]
  },
  {
   "cell_type": "code",
   "execution_count": 32,
   "metadata": {},
   "outputs": [
    {
     "name": "stdout",
     "output_type": "stream",
     "text": [
      "Known TensorBoard instances:\n",
      "  - port 6006: logdir logs (started 0:13:50 ago; pid 14700)\n",
      "  - port 8088: logdir data/ (started 0:11:02 ago; pid 6700)\n",
      "  - port 8088: logdir logs (started 0:01:21 ago; pid 8716)\n"
     ]
    }
   ],
   "source": [
    "notebook.list()\n"
   ]
  },
  {
   "cell_type": "code",
   "execution_count": null,
   "metadata": {},
   "outputs": [],
   "source": [
    "plt.figure(1)\n",
    "\n",
    "plt.plot(history.history['binary_accuracy'], label = 'Training Accuracy')\n",
    "plt.plot(history.history['val_binary_accuracy'], label = 'Validation Accuracy')\n",
    "plt.title('Model Accuracy')\n",
    "plt.ylabel('Accuracy')\n",
    "plt.xlabel('Epoch')\n",
    "plt.legend()\n",
    "\n",
    "plt.figure(2)\n",
    "\n",
    "plt.plot(history.history['loss'], label = 'Training Loss')\n",
    "plt.plot(history.history['val_loss'], label = 'Validation Loss')\n",
    "plt.title('Model Loss')\n",
    "plt.ylabel('Loss')\n",
    "plt.xlabel('Epoch')\n",
    "plt.legend()\n",
    "plt.show()"
   ]
  },
  {
   "cell_type": "code",
   "execution_count": null,
   "metadata": {},
   "outputs": [],
   "source": [
    "# model = load_model('C:\\\\Users\\\\user\\\\saved_models\\\\basic_alldata_0.0001_25_250_1.h5')\n",
    "# model.evaluate_generator(generator = validation_generator, steps = STEP_SIZE_VALID, verbose = 1)\n",
    "\n",
    "test_generator.reset()\n",
    "pred = model.predict_generator(test_generator,\n",
    "                               steps = STEP_SIZE_TEST,\n",
    "                               verbose = 1)"
   ]
  },
  {
   "cell_type": "code",
   "execution_count": null,
   "metadata": {},
   "outputs": [],
   "source": [
    "test_labels = []\n",
    "for filename in os.listdir('C:\\\\Users\\\\user\\\\chair_model\\\\test\\\\test_folder'):\n",
    "    if 'empty' in filename:\n",
    "        test_labels.append(0)\n",
    "    else:\n",
    "        test_labels.append(1)"
   ]
  },
  {
   "cell_type": "code",
   "execution_count": null,
   "metadata": {},
   "outputs": [],
   "source": [
    "accuracy = []\n",
    "for th in np.linspace(0, 1, 100):\n",
    "    pred_labels = (pred > th)\n",
    "    x = accuracy_score(pred_labels, test_labels)\n",
    "    accuracy.append(x)\n",
    "    \n",
    "plt.figure(1)\n",
    "plt.plot(np.linspace(0, 1, 100), accuracy)\n",
    "plt.xlabel('Threshold')\n",
    "plt.ylabel('Accuracy')\n",
    "plt.title('Binary Classification Accuracy at Various Thresholds')\n",
    "\n",
    "plt.figure(2)\n",
    "precision, recall, thresholds = precision_recall_curve(test_labels, pred)\n",
    "average_precision = average_precision_score(test_labels, pred)\n",
    "plt.plot(recall, precision)\n",
    "plt.xlabel('Recall')\n",
    "plt.ylabel('Precision')\n",
    "plt.title('2-class Precision-Recall Curve: AP = ''{0:0.2f}'.format(average_precision))\n",
    "\n",
    "fpr_keras, tpr_keras, thersholds_keras = roc_curve(test_labels, pred)\n",
    "auc_keras = auc(fpr_keras, tpr_keras)\n",
    "\n",
    "plt.figure(3)\n",
    "plt.plot([0, 1], [0, 1], 'k--')\n",
    "plt.plot(fpr_keras, tpr_keras, label = 'Keras (area = {:.3f})'.format(auc_keras))\n",
    "plt.xlabel('False Positive Rate')\n",
    "plt.ylabel('True Positive Rate')\n",
    "plt.title('ROC Curve')\n",
    "plt.legend(loc = 'best')\n",
    "plt.show()\n",
    "\n",
    "plt.show()"
   ]
  },
  {
   "cell_type": "code",
   "execution_count": null,
   "metadata": {},
   "outputs": [],
   "source": [
    "threshold = 0.9\n",
    "pred_labels = (pred > threshold)\n",
    "\n",
    "cf_matrix = confusion_matrix(test_labels, pred_labels) \n",
    "  \n",
    "print('Confusion Matrix :')\n",
    "print(cf_matrix) \n",
    "print('Accuracy Score :', accuracy_score(test_labels, pred_labels))\n",
    "print('Report : ')\n",
    "print(classification_report(test_labels, pred_labels))\n",
    "\n",
    "plt.figure(1)\n",
    "group_names = ['True Neg', 'False Pos', 'False Neg', 'True Pos']\n",
    "group_counts = ['{0:0.0f}'.format(value) for value in cf_matrix.flatten()]\n",
    "group_percentages = ['{0:.2%}'.format(value) for value in cf_matrix.flatten()/np.sum(cf_matrix)]\n",
    "labels = [f'{v1}\\n{v2}\\n{v3}' for v1, v2, v3 in zip(group_names, group_counts, group_percentages)]\n",
    "labels = np.asarray(labels).reshape(2,2)\n",
    "sns.heatmap(cf_matrix, annot = labels, fmt='', cmap = 'Blues')\n",
    "plt.show()"
   ]
  },
  {
   "cell_type": "code",
   "execution_count": null,
   "metadata": {},
   "outputs": [],
   "source": [
    "from numpy import savetxt\n",
    "savetxt('results.csv', pred_labels, delimiter = ',')"
   ]
  },
  {
   "cell_type": "code",
   "execution_count": null,
   "metadata": {},
   "outputs": [],
   "source": [
    "MODELFILENAME = 'basic_alldata_0.0001_25_250_1.h5'\n",
    "MODELPATH = 'C:\\\\Users\\\\user\\\\saved_models'\n",
    "model.save(os.path.join(MODELPATH, MODELFILENAME))"
   ]
  },
  {
   "cell_type": "code",
   "execution_count": null,
   "metadata": {},
   "outputs": [],
   "source": [
    "# write an annotated output video\n",
    "# number of predictions must match number of frames in the video\n",
    "OUTPUT_VIDEO_DIR = 'C:\\\\Users\\\\user\\\\chair_model'\n",
    "\n",
    "def create_output_video(\n",
    "    predictions,\n",
    "    input_vid_location,\n",
    "    out_location=OUTPUT_VIDEO_DIR,\n",
    "    frame_jump = 1,\n",
    "    out_name = None,\n",
    "):\n",
    "    \"\"\"take in a video and create an output video with annotated predictions on it\n",
    "\n",
    "    Parameters\n",
    "    ----------\n",
    "    predictions : list\n",
    "        list of predictions for every frame in the video\n",
    "    input_video_location : str\n",
    "        path to saved input fideo to run on\n",
    "    out_location : str\n",
    "        path to write the annotated video to\n",
    "    frame_jump : int\n",
    "        runt/ write predictions on every nth frame, 1 would be predicting writing to every frame\n",
    "    out_name : str\n",
    "        override path and file name to write the video to\n",
    "    Returns\n",
    "    -------\n",
    "    output_video_location: str\n",
    "        where the annotated video was written to\n",
    "\n",
    "    \"\"\"\n",
    "    # initialize the video stream, pointer to output video file, and\n",
    "    # frame dimensions\n",
    "    print(\"processing video :\", input_vid_location)\n",
    "\n",
    "    if out_name:\n",
    "        outputFileName = out_name\n",
    "    else:\n",
    "        outputFileName = \"annotated_\" + os.path.basename(input_vid_location)\n",
    "    output_video_location = os.path.join(out_location, outputFileName)\n",
    "\n",
    "    vs = cv2.VideoCapture(input_vid_location)\n",
    "\n",
    "    fps = vs.get(cv2.CAP_PROP_FPS)\n",
    "    length = int(vs.get(cv2.CAP_PROP_FRAME_COUNT))\n",
    "    if length != len(predictions):\n",
    "        print(\"frames and video length do not match. num frames = \", length)\n",
    "        return None\n",
    "\n",
    "    writer = None\n",
    "    (W, H) = (None, None)\n",
    "    # loop over frames from the video file stream\n",
    "    pred_count = 0\n",
    "    text = \"bed score prediction\"\n",
    "    while True:\n",
    "        # read the next frame from the file\n",
    "        (grabbed, frame) = vs.read()\n",
    "        # if the frame was not grabbed, then we have reached the end\n",
    "        # of the stream\n",
    "        if not grabbed:\n",
    "            break\n",
    "        # if the frame dimensions are empty, grab them\n",
    "        if W is None or H is None:\n",
    "            (H, W) = frame.shape[:2]\n",
    "        output = frame.copy()\n",
    "        # draw the activity on the output frame\n",
    "\n",
    "        if (pred_count % frame_jump) == 0:\n",
    "            text = f\"Chair Score: {predictions[pred_count]}\"\n",
    "            # print(\"writing prediction \", pred_count, text)\n",
    "        pred_count += 1\n",
    "        cv2.putText(output, text, (35, 50), cv2.FONT_HERSHEY_DUPLEX, 2, (0, 255, 0), 5)\n",
    "        # check if the video writer is None\n",
    "        if writer is None:\n",
    "            # initialize our video writer\n",
    "            fourcc = cv2.VideoWriter_fourcc(*\"MP4V\")\n",
    "            writer = cv2.VideoWriter(output_video_location, fourcc, fps, (W, H), True)\n",
    "\n",
    "        # write the output frame to disk\n",
    "        writer.write(output)\n",
    "        # print(\"wrote frame\")\n",
    "\n",
    "    # release the file pointers\n",
    "    print(\"[INFO] cleaning up...\")\n",
    "    if writer:\n",
    "        writer.release()\n",
    "        out = output_video_location\n",
    "    else:\n",
    "        out = output_img_location\n",
    "    vs.release()\n",
    "    return output_video_location"
   ]
  },
  {
   "cell_type": "code",
   "execution_count": null,
   "metadata": {},
   "outputs": [],
   "source": [
    "create_output_video(pred_labels[:1350], \n",
    "                    'C:\\\\Users\\\\user\\\\chair_model\\\\test_videos\\\\empty_chair_90.mp4')"
   ]
  },
  {
   "cell_type": "code",
   "execution_count": null,
   "metadata": {},
   "outputs": [],
   "source": [
    "# FFMPEG tool used to identify unique frames from video samples\n",
    "\n",
    "# !ffmpeg -i \"C:\\\\Users\\\\user\\\\chair_model\\\\videos\\\\empty_chair.mp4\" -vf \"select=gt(scene\\,0.003),setpts=N/(30*TB)\" \"C:\\\\Users\\\\user\\\\chair_model\\\\videos\\\\test.mp4\" \n"
   ]
  }
 ],
 "metadata": {
  "kernelspec": {
   "display_name": "Python 3",
   "language": "python",
   "name": "python3"
  },
  "language_info": {
   "codemirror_mode": {
    "name": "ipython",
    "version": 3
   },
   "file_extension": ".py",
   "mimetype": "text/x-python",
   "name": "python",
   "nbconvert_exporter": "python",
   "pygments_lexer": "ipython3",
   "version": "3.7.7"
  }
 },
 "nbformat": 4,
 "nbformat_minor": 4
}
