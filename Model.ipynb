{
 "cells": [
  {
   "cell_type": "code",
   "execution_count": 1,
   "metadata": {},
   "outputs": [
    {
     "data": {
      "text/plain": [
       "'C:\\\\Users\\\\user'"
      ]
     },
     "execution_count": 1,
     "metadata": {},
     "output_type": "execute_result"
    }
   ],
   "source": [
    "pwd"
   ]
  },
  {
   "cell_type": "code",
   "execution_count": 2,
   "metadata": {},
   "outputs": [
    {
     "name": "stdout",
     "output_type": "stream",
     "text": [
      "Num GPUs Available:  1\n",
      "WARNING:tensorflow:From <ipython-input-2-3e1b5a674b1d>:6: is_gpu_available (from tensorflow.python.framework.test_util) is deprecated and will be removed in a future version.\n",
      "Instructions for updating:\n",
      "Use `tf.config.list_physical_devices('GPU')` instead.\n"
     ]
    },
    {
     "data": {
      "text/plain": [
       "[PhysicalDevice(name='/physical_device:GPU:0', device_type='GPU')]"
      ]
     },
     "execution_count": 2,
     "metadata": {},
     "output_type": "execute_result"
    }
   ],
   "source": [
    "from __future__ import absolute_import, division, print_function, unicode_literals\n",
    "\n",
    "import tensorflow as tf\n",
    "print(\"Num GPUs Available: \", len(tf.config.experimental.list_physical_devices('GPU')))\n",
    "\n",
    "tf.test.is_gpu_available(cuda_only=False, min_cuda_compute_capability=None)\n",
    "\n",
    "tf.config.list_physical_devices('GPU')"
   ]
  },
  {
   "cell_type": "code",
   "execution_count": 16,
   "metadata": {},
   "outputs": [],
   "source": [
    "import os\n",
    "import numpy as np\n",
    "import pandas as pd\n",
    "import matplotlib.pyplot as plt\n",
    "import tensorflow as tf\n",
    "import datetime\n",
    "import cv2\n",
    "\n",
    "from tensorflow.keras.applications.inception_v3 import InceptionV3\n",
    "from tensorflow.keras.preprocessing.image import ImageDataGenerator\n",
    "from tensorflow.keras.preprocessing import image\n",
    "from tensorflow.keras.applications.inception_v3 import preprocess_input, decode_predictions\n",
    "\n",
    "from tensorflow.keras.models import Model\n",
    "from tensorflow.keras.layers import Dense, GlobalAveragePooling2D, BatchNormalization\n",
    "from tensorflow.keras import regularizers\n",
    "from tensorflow.keras import backend as K\n",
    "from keras.utils.layer_utils import count_params\n",
    "\n",
    "from tensorflow.keras.optimizers import Adam\n",
    "from tensorflow.keras import losses\n",
    "from tensorflow.keras.models import load_model\n"
   ]
  },
  {
   "cell_type": "code",
   "execution_count": 4,
   "metadata": {},
   "outputs": [],
   "source": [
    "# Define Image Augmentation and Training Parameters\n",
    "\n",
    "class Config:\n",
    "    DATA_AUG_ON = True\n",
    "    DATA_AUG_ROTATE = 20\n",
    "    DATA_AUG_FLIP = True\n",
    "    DATA_AUG_WIDTH_SHIFT = 0.2\n",
    "    DATA_AUG_HEIGHT_SHIFT = 0.2\n",
    "    DATA_AUG_ZOOM = 0.2\n",
    "    DATA_AUG_SHEAR = 0.2\n",
    "    MODEL_TRAIN_EPOCHS = [20]\n",
    "    MODEL_TRAIN_LEARN_RATE = [0.001]\n",
    "    MODEL_TRAIN_BATCH_SIZE = 32\n",
    "    MODEL_TRAIN_FIRST_TRAINABLE_LAYER = 200\n",
    "\n",
    "config = Config()"
   ]
  },
  {
   "cell_type": "code",
   "execution_count": 5,
   "metadata": {},
   "outputs": [
    {
     "name": "stdout",
     "output_type": "stream",
     "text": [
      "Total Parameters: 21,876,577\n",
      "Trainable Parameters: 14,873,985\n",
      "Non-Trainable Parameters: 7,002,592\n"
     ]
    }
   ],
   "source": [
    "# Define Base Model\n",
    "\n",
    "base_model = InceptionV3(weights = 'imagenet', include_top = False)\n",
    "\n",
    "MODEL_TRAINABLE_BASE = True\n",
    "\n",
    "if MODEL_TRAINABLE_BASE:\n",
    "    base_model.trainable = True\n",
    "    if config.MODEL_TRAIN_FIRST_TRAINABLE_LAYER:\n",
    "        for layer in base_model.layers[:config.MODEL_TRAIN_FIRST_TRAINABLE_LAYER]:\n",
    "            layer.trainable = False\n",
    "        for layer in base_model.layers[config.MODEL_TRAIN_FIRST_TRAINABLE_LAYER:]:\n",
    "            layer.trainable = True\n",
    "else:\n",
    "    base_model.trainable = False\n",
    "\n",
    "x = base_model.output\n",
    "x = GlobalAveragePooling2D()(x)\n",
    "x = BatchNormalization()(x)\n",
    "x = Dense(32, activation = 'relu', kernel_regularizer = regularizers.l2(5e-3),\n",
    "                bias_regularizer = regularizers.l2(5e-3))(x)\n",
    "x = Dense(1, activation = 'sigmoid', name = 'output')(x)\n",
    "\n",
    "model = Model(inputs = base_model.input, outputs = x)\n",
    "\n",
    "# print(model.summary())\n",
    "\n",
    "trainable_count = count_params(model.trainable_weights)\n",
    "non_trainable_count = count_params(model.non_trainable_weights)\n",
    "print('Total Parameters: {:,}'.format(trainable_count + non_trainable_count))\n",
    "print('Trainable Parameters: {:,}'.format(trainable_count))\n",
    "print('Non-Trainable Parameters: {:,}'.format(non_trainable_count))"
   ]
  },
  {
   "cell_type": "code",
   "execution_count": 6,
   "metadata": {},
   "outputs": [
    {
     "name": "stdout",
     "output_type": "stream",
     "text": [
      "Found 1960 images belonging to 2 classes.\n",
      "Found 20 images belonging to 2 classes.\n",
      "Found 2700 images belonging to 1 classes.\n"
     ]
    },
    {
     "data": {
      "text/plain": [
       "{'emptyChair': 0, 'inChair': 1}"
      ]
     },
     "execution_count": 6,
     "metadata": {},
     "output_type": "execute_result"
    }
   ],
   "source": [
    "if config.DATA_AUG_ON:\n",
    "    datagen = ImageDataGenerator(preprocessing_function = preprocess_input,\n",
    "                                 rotation_range = config.DATA_AUG_ROTATE,\n",
    "                                 horizontal_flip = config.DATA_AUG_FLIP,\n",
    "                                 width_shift_range = config.DATA_AUG_WIDTH_SHIFT,\n",
    "                                 height_shift_range = config.DATA_AUG_HEIGHT_SHIFT,\n",
    "                                 zoom_range = config.DATA_AUG_ZOOM,\n",
    "                                 shear_range = config.DATA_AUG_SHEAR)\n",
    "\n",
    "else:\n",
    "    datagen = ImageDataGenerator(preprocessing_function = preprocess_input)\n",
    "    \n",
    "train_generator = datagen.flow_from_directory('C:\\\\Users\\\\user\\\\chair_model\\\\training',\n",
    "                                              target_size = (299, 299),\n",
    "                                              color_mode = 'rgb',\n",
    "                                              classes = ['emptyChair', 'inChair'],\n",
    "                                              batch_size = config.MODEL_TRAIN_BATCH_SIZE,\n",
    "                                              seed = 724,\n",
    "                                              class_mode = 'binary',\n",
    "                                              shuffle = False)\n",
    "\n",
    "validation_generator = datagen.flow_from_directory('C:\\\\Users\\\\user\\\\chair_model\\\\valid',\n",
    "                                              target_size = (299, 299),\n",
    "                                              color_mode = 'rgb',\n",
    "                                              classes = ['emptyChair', 'inChair'],\n",
    "                                              batch_size = config.MODEL_TRAIN_BATCH_SIZE,\n",
    "                                              seed = 724,\n",
    "                                              class_mode = 'binary',\n",
    "                                              shuffle = False)\n",
    "\n",
    "test_generator = datagen.flow_from_directory('C:\\\\Users\\\\user\\\\chair_model\\\\test',\n",
    "                                              target_size = (299, 299),\n",
    "                                              color_mode = 'rgb',\n",
    "                                              batch_size = 1,\n",
    "                                              seed = 724,\n",
    "                                              class_mode = None,\n",
    "                                              shuffle = False)\n",
    "\n",
    "STEP_SIZE_TRAIN = train_generator.n//train_generator.batch_size\n",
    "STEP_SIZE_VALID = validation_generator.n//validation_generator.batch_size\n",
    "STEP_SIZE_TEST = test_generator.n//test_generator.batch_size\n",
    "\n",
    "train_generator.class_indices"
   ]
  },
  {
   "cell_type": "code",
   "execution_count": 8,
   "metadata": {},
   "outputs": [
    {
     "name": "stdout",
     "output_type": "stream",
     "text": [
      "Found 1960 images belonging to 2 classes.\n",
      "Found 20 images belonging to 2 classes.\n",
      "Found 2700 images belonging to 1 classes.\n",
      "WARNING:tensorflow:sample_weight modes were coerced from\n",
      "  ...\n",
      "    to  \n",
      "  ['...']\n",
      "WARNING:tensorflow:sample_weight modes were coerced from\n",
      "  ...\n",
      "    to  \n",
      "  ['...']\n",
      "Train for 61 steps, validate for 1 steps\n",
      "Epoch 1/20\n",
      " 1/61 [..............................] - ETA: 6:36 - loss: 1.1253 - binary_accuracy: 0.4375"
     ]
    },
    {
     "name": "stderr",
     "output_type": "stream",
     "text": [
      "c:\\users\\user\\appdata\\local\\programs\\python\\python37\\lib\\site-packages\\PIL\\Image.py:932: UserWarning: Palette images with Transparency expressed in bytes should be converted to RGBA images\n",
      "  \"Palette images with Transparency expressed in bytes should be \"\n"
     ]
    },
    {
     "name": "stdout",
     "output_type": "stream",
     "text": [
      "61/61 [==============================] - 72s 1s/step - loss: 0.9194 - binary_accuracy: 0.7687 - val_loss: 57.4948 - val_binary_accuracy: 0.5000\n",
      "Epoch 2/20\n",
      "61/61 [==============================] - 63s 1s/step - loss: 0.4421 - binary_accuracy: 0.9503 - val_loss: 132.8665 - val_binary_accuracy: 0.5000\n",
      "Epoch 3/20\n",
      "61/61 [==============================] - 67s 1s/step - loss: 0.2587 - binary_accuracy: 0.9922 - val_loss: 75.2045 - val_binary_accuracy: 0.5000\n",
      "Epoch 4/20\n",
      "61/61 [==============================] - 63s 1s/step - loss: 0.2011 - binary_accuracy: 1.0000 - val_loss: 12.7753 - val_binary_accuracy: 0.3000\n",
      "Epoch 5/20\n",
      "61/61 [==============================] - 64s 1s/step - loss: 0.2994 - binary_accuracy: 0.9673 - val_loss: 37.3957 - val_binary_accuracy: 0.4500\n",
      "Epoch 6/20\n",
      "61/61 [==============================] - 62s 1s/step - loss: 0.2465 - binary_accuracy: 0.9715 - val_loss: 8.5436 - val_binary_accuracy: 0.3000\n",
      "Epoch 7/20\n",
      "61/61 [==============================] - 65s 1s/step - loss: 0.1697 - binary_accuracy: 0.9891 - val_loss: 7.0072 - val_binary_accuracy: 0.3000\n",
      "Epoch 8/20\n",
      "61/61 [==============================] - 63s 1s/step - loss: 0.1673 - binary_accuracy: 0.9860 - val_loss: 0.9156 - val_binary_accuracy: 0.6000\n",
      "Epoch 9/20\n",
      "61/61 [==============================] - 59s 973ms/step - loss: 0.1151 - binary_accuracy: 0.9974 - val_loss: 2.3661 - val_binary_accuracy: 0.7500\n",
      "Epoch 10/20\n",
      "61/61 [==============================] - 58s 953ms/step - loss: 0.0961 - binary_accuracy: 0.9990 - val_loss: 1.0216 - val_binary_accuracy: 0.7000\n",
      "Epoch 11/20\n",
      "61/61 [==============================] - 58s 956ms/step - loss: 0.0818 - binary_accuracy: 1.0000 - val_loss: 0.5478 - val_binary_accuracy: 0.7500\n",
      "Epoch 12/20\n",
      "61/61 [==============================] - 59s 967ms/step - loss: 0.0695 - binary_accuracy: 0.9995 - val_loss: 0.6005 - val_binary_accuracy: 0.6500\n",
      "Epoch 13/20\n",
      "61/61 [==============================] - 61s 1s/step - loss: 0.0592 - binary_accuracy: 1.0000 - val_loss: 0.5929 - val_binary_accuracy: 0.7000\n",
      "Epoch 14/20\n",
      "61/61 [==============================] - 60s 987ms/step - loss: 0.0506 - binary_accuracy: 1.0000 - val_loss: 0.6169 - val_binary_accuracy: 0.6500\n",
      "Epoch 15/20\n",
      "61/61 [==============================] - 59s 960ms/step - loss: 0.0430 - binary_accuracy: 1.0000 - val_loss: 0.4268 - val_binary_accuracy: 0.7500\n",
      "Epoch 16/20\n",
      "61/61 [==============================] - 59s 961ms/step - loss: 0.0371 - binary_accuracy: 0.9995 - val_loss: 0.4615 - val_binary_accuracy: 0.7000\n",
      "Epoch 17/20\n",
      "61/61 [==============================] - 58s 955ms/step - loss: 0.0311 - binary_accuracy: 1.0000 - val_loss: 0.6553 - val_binary_accuracy: 0.6000\n",
      "Epoch 18/20\n",
      "61/61 [==============================] - 60s 977ms/step - loss: 0.0265 - binary_accuracy: 1.0000 - val_loss: 0.8187 - val_binary_accuracy: 0.6000\n",
      "Epoch 19/20\n",
      "61/61 [==============================] - 59s 968ms/step - loss: 0.0233 - binary_accuracy: 1.0000 - val_loss: 0.6522 - val_binary_accuracy: 0.6000\n",
      "Epoch 20/20\n",
      "61/61 [==============================] - 59s 962ms/step - loss: 0.0201 - binary_accuracy: 1.0000 - val_loss: 0.5678 - val_binary_accuracy: 0.7000\n"
     ]
    }
   ],
   "source": [
    "model.compile(optimizer = Adam(lr = config.MODEL_TRAIN_LEARN_RATE[0]),\n",
    "              loss = losses.BinaryCrossentropy(),\n",
    "              metrics = ['binary_accuracy'])\n",
    "\n",
    "history = model.fit_generator(generator = train_generator, \n",
    "                              steps_per_epoch = STEP_SIZE_TRAIN,\n",
    "                              validation_data = validation_generator,\n",
    "                              validation_steps = STEP_SIZE_VALID,\n",
    "                              epochs = config.MODEL_TRAIN_EPOCHS[0])"
   ]
  },
  {
   "cell_type": "code",
   "execution_count": 12,
   "metadata": {},
   "outputs": [
    {
     "data": {
      "text/plain": [
       "<Figure size 432x288 with 0 Axes>"
      ]
     },
     "metadata": {},
     "output_type": "display_data"
    },
    {
     "data": {
      "image/png": "[encoded data removed]",
      "text/plain": [
       "<Figure size 432x288 with 1 Axes>"
      ]
     },
     "metadata": {
      "needs_background": "light"
     },
     "output_type": "display_data"
    }
   ],
   "source": [
    "plt.figure()\n",
    "\n",
    "fig, ax = plt.subplots()\n",
    "ax.plot(history.history['val_loss'], label = \"validation loss\")\n",
    "ax.plot(history.history['val_binary_accuracy'], label = \"validation accuracy\")\n",
    "ax.plot(history.history['loss'], label = \"training loss\")\n",
    "ax.plot(history.history['binary_accuracy'], label = \"training accuracy\")\n",
    "plt.xlabel(\"Epoch #\")\n",
    "plt.ylabel(\"Loss\")\n",
    "plt.ylim(0, 1.5)\n",
    "ax.legend()\n",
    "plt.show()"
   ]
  },
  {
   "cell_type": "code",
   "execution_count": 7,
   "metadata": {},
   "outputs": [
    {
     "name": "stdout",
     "output_type": "stream",
     "text": [
      "WARNING:tensorflow:From <ipython-input-7-7ad98e09f2bf>:7: Model.predict_generator (from tensorflow.python.keras.engine.training) is deprecated and will be removed in a future version.\n",
      "Instructions for updating:\n",
      "Please use Model.predict, which supports generators.\n",
      "2700/2700 [==============================] - 124s 46ms/step\n"
     ]
    }
   ],
   "source": [
    "# model = load_model('C:\\\\Users\\\\user\\\\saved_models\\\\basic_alldata_1.h5')\n",
    "# model.evaluate_generator(generator = validation_generator, verbose = 1)\n",
    "\n",
    "test_generator.reset()\n",
    "pred = model.predict_generator(test_generator,\n",
    "                               steps = STEP_SIZE_TEST,\n",
    "                               verbose = 1)"
   ]
  },
  {
   "cell_type": "code",
   "execution_count": 8,
   "metadata": {},
   "outputs": [
    {
     "name": "stdout",
     "output_type": "stream",
     "text": [
      "2700\n"
     ]
    }
   ],
   "source": [
    "test_labels = []\n",
    "for filename in os.listdir('c:\\\\Users\\\\user\\\\chair_model\\\\test\\\\test_folder'):\n",
    "    if 'empty' in filename:\n",
    "        test_labels.append(0)\n",
    "    else:\n",
    "        test_labels.append(1)\n",
    "print(len(test_labels))"
   ]
  },
  {
   "cell_type": "code",
   "execution_count": 9,
   "metadata": {},
   "outputs": [
    {
     "name": "stdout",
     "output_type": "stream",
     "text": [
      "2700\n"
     ]
    }
   ],
   "source": [
    "threshold = 0.5\n",
    "pred_labels = []\n",
    "for i in pred:\n",
    "    if i >= threshold:\n",
    "        pred_labels.append(1)\n",
    "    else:\n",
    "        pred_labels.append(0)\n",
    "print(len(pred_labels))"
   ]
  },
  {
   "cell_type": "code",
   "execution_count": 10,
   "metadata": {},
   "outputs": [
    {
     "name": "stdout",
     "output_type": "stream",
     "text": [
      "Confusion Matrix :\n",
      "[[ 392  958]\n",
      " [  89 1261]]\n",
      "Accuracy Score : 0.6122222222222222\n",
      "Report : \n",
      "              precision    recall  f1-score   support\n",
      "\n",
      "           0       0.81      0.29      0.43      1350\n",
      "           1       0.57      0.93      0.71      1350\n",
      "\n",
      "    accuracy                           0.61      2700\n",
      "   macro avg       0.69      0.61      0.57      2700\n",
      "weighted avg       0.69      0.61      0.57      2700\n",
      "\n"
     ]
    }
   ],
   "source": [
    "from sklearn.metrics import confusion_matrix \n",
    "from sklearn.metrics import accuracy_score \n",
    "from sklearn.metrics import classification_report \n",
    "\n",
    "results = confusion_matrix(test_labels, pred_labels) \n",
    "  \n",
    "print('Confusion Matrix :')\n",
    "print(results) \n",
    "print('Accuracy Score :', accuracy_score(test_labels, pred_labels))\n",
    "print('Report : ')\n",
    "print(classification_report(test_labels, pred_labels))"
   ]
  },
  {
   "cell_type": "code",
   "execution_count": 31,
   "metadata": {},
   "outputs": [],
   "source": [
    "MODELFILENAME = 'basic_alldata_1.h5'\n",
    "MODELPATH = 'C:\\\\Users\\\\user\\\\saved_models'\n",
    "model.save(os.path.join(MODELPATH, MODELFILENAME))"
   ]
  },
  {
   "cell_type": "code",
   "execution_count": 17,
   "metadata": {},
   "outputs": [],
   "source": [
    "# write an annotated output video\n",
    "# #of predictions must match number of frames in the video\n",
    "OUTPUT_VIDEO_DIR = 'C:\\\\Users\\\\user\\\\chair_model'\n",
    "\n",
    "def create_output_video(\n",
    "    predictions,\n",
    "    input_vid_location,\n",
    "    out_location=OUTPUT_VIDEO_DIR,\n",
    "    frame_jump = 1,\n",
    "    out_name = None,\n",
    "):\n",
    "    \"\"\"take in a video and create an output video with annotated predictions on it\n",
    "\n",
    "    Parameters\n",
    "    ----------\n",
    "    predictions : list\n",
    "        list of predictions for every frame in the video\n",
    "    input_video_location : str\n",
    "        path to saved input fideo to run on\n",
    "    out_location : str\n",
    "        path to write the annotated video to\n",
    "    frame_jump : int\n",
    "        runt/ write predictions on every nth frame, 1 would be predicting writing to every frame\n",
    "    out_name : str\n",
    "        override path and file name to write the video to\n",
    "    Returns\n",
    "    -------\n",
    "    output_video_location: str\n",
    "        where the annotated video was written to\n",
    "\n",
    "    \"\"\"\n",
    "    # initialize the video stream, pointer to output video file, and\n",
    "    # frame dimensions\n",
    "    print(\"processing video :\", input_vid_location)\n",
    "\n",
    "    if out_name:\n",
    "        outputFileName = out_name\n",
    "    else:\n",
    "        outputFileName = \"annotated_\" + os.path.basename(input_vid_location)\n",
    "    output_video_location = os.path.join(out_location, outputFileName)\n",
    "\n",
    "    vs = cv2.VideoCapture(input_vid_location)\n",
    "\n",
    "    fps = vs.get(cv2.CAP_PROP_FPS)\n",
    "    length = int(vs.get(cv2.CAP_PROP_FRAME_COUNT))\n",
    "    if length != len(predictions):\n",
    "        print(\"frames and video length do not match. num frames = \", length)\n",
    "        return None\n",
    "\n",
    "    writer = None\n",
    "    (W, H) = (None, None)\n",
    "    # loop over frames from the video file stream\n",
    "    pred_count = 0\n",
    "    text = \"bed score prediction\"\n",
    "    while True:\n",
    "        # read the next frame from the file\n",
    "        (grabbed, frame) = vs.read()\n",
    "        # if the frame was not grabbed, then we have reached the end\n",
    "        # of the stream\n",
    "        if not grabbed:\n",
    "            break\n",
    "        # if the frame dimensions are empty, grab them\n",
    "        if W is None or H is None:\n",
    "            (H, W) = frame.shape[:2]\n",
    "        output = frame.copy()\n",
    "        # draw the activity on the output frame\n",
    "\n",
    "        if (pred_count % frame_jump) == 0:\n",
    "            text = f\"Chair Score: {predictions[pred_count]}\"\n",
    "            # print(\"writing prediction \", pred_count, text)\n",
    "        pred_count += 1\n",
    "        cv2.putText(output, text, (35, 50), cv2.FONT_HERSHEY_DUPLEX, 2, (0, 255, 0), 5)\n",
    "        # check if the video writer is None\n",
    "        if writer is None:\n",
    "            # initialize our video writer\n",
    "            fourcc = cv2.VideoWriter_fourcc(*\"MP4V\")\n",
    "            writer = cv2.VideoWriter(output_video_location, fourcc, fps, (W, H), True)\n",
    "\n",
    "        # write the output frame to disk\n",
    "        writer.write(output)\n",
    "        # print(\"wrote frame\")\n",
    "\n",
    "    # release the file pointers\n",
    "    print(\"[INFO] cleaning up...\")\n",
    "    if writer:\n",
    "        writer.release()\n",
    "        out = output_video_location\n",
    "    else:\n",
    "        out = output_img_location\n",
    "    vs.release()\n",
    "    return output_video_location"
   ]
  },
  {
   "cell_type": "code",
   "execution_count": 33,
   "metadata": {},
   "outputs": [
    {
     "name": "stdout",
     "output_type": "stream",
     "text": [
      "processing video : C:\\Users\\user\\chair_model\\test_videos\\empty_chair_90.mp4\n",
      "[INFO] cleaning up...\n"
     ]
    },
    {
     "data": {
      "text/plain": [
       "'C:\\\\Users\\\\user\\\\chair_model\\\\annotated_empty_chair_90.mp4'"
      ]
     },
     "execution_count": 33,
     "metadata": {},
     "output_type": "execute_result"
    }
   ],
   "source": [
    "create_output_video(pred_labels[:1350], \n",
    "                    'C:\\\\Users\\\\user\\\\chair_model\\\\test_videos\\\\empty_chair_90.mp4')"
   ]
  },
  {
   "cell_type": "code",
   "execution_count": null,
   "metadata": {},
   "outputs": [],
   "source": []
  }
 ],
 "metadata": {
  "kernelspec": {
   "display_name": "Python 3",
   "language": "python",
   "name": "python3"
  },
  "language_info": {
   "codemirror_mode": {
    "name": "ipython",
    "version": 3
   },
   "file_extension": ".py",
   "mimetype": "text/x-python",
   "name": "python",
   "nbconvert_exporter": "python",
   "pygments_lexer": "ipython3",
   "version": "3.7.7"
  }
 },
 "nbformat": 4,
 "nbformat_minor": 4
}
