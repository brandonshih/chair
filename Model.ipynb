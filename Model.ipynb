{
 "cells": [
  {
   "cell_type": "code",
   "execution_count": 1,
   "metadata": {},
   "outputs": [
    {
     "data": {
      "text/plain": [
       "'C:\\\\Users\\\\user'"
      ]
     },
     "execution_count": 1,
     "metadata": {},
     "output_type": "execute_result"
    }
   ],
   "source": [
    "pwd"
   ]
  },
  {
   "cell_type": "code",
   "execution_count": 2,
   "metadata": {},
   "outputs": [
    {
     "name": "stdout",
     "output_type": "stream",
     "text": [
      "Num GPUs Available:  1\n",
      "WARNING:tensorflow:From <ipython-input-2-3e1b5a674b1d>:6: is_gpu_available (from tensorflow.python.framework.test_util) is deprecated and will be removed in a future version.\n",
      "Instructions for updating:\n",
      "Use `tf.config.list_physical_devices('GPU')` instead.\n"
     ]
    },
    {
     "data": {
      "text/plain": [
       "[PhysicalDevice(name='/physical_device:GPU:0', device_type='GPU')]"
      ]
     },
     "execution_count": 2,
     "metadata": {},
     "output_type": "execute_result"
    }
   ],
   "source": [
    "from __future__ import absolute_import, division, print_function, unicode_literals\n",
    "\n",
    "import tensorflow as tf\n",
    "print(\"Num GPUs Available: \", len(tf.config.experimental.list_physical_devices('GPU')))\n",
    "\n",
    "tf.test.is_gpu_available(cuda_only=False, min_cuda_compute_capability=None)\n",
    "\n",
    "tf.config.list_physical_devices('GPU')"
   ]
  },
  {
   "cell_type": "code",
   "execution_count": 3,
   "metadata": {},
   "outputs": [
    {
     "name": "stderr",
     "output_type": "stream",
     "text": [
      "Using TensorFlow backend.\n"
     ]
    }
   ],
   "source": [
    "import time\n",
    "import sys\n",
    "import datetime, os\n",
    "import numpy as np\n",
    "import pandas as pd\n",
    "import matplotlib.pyplot as plt\n",
    "import tensorflow as tf\n",
    "import cv2\n",
    "import seaborn as sns\n",
    "from tensorboard import notebook\n",
    "%load_ext tensorboard\n",
    "\n",
    "from sklearn import metrics\n",
    "from sklearn.metrics import confusion_matrix \n",
    "from sklearn.metrics import accuracy_score\n",
    "from sklearn.metrics import classification_report \n",
    "from sklearn.metrics import roc_curve\n",
    "from sklearn.metrics import auc\n",
    "from sklearn.metrics import precision_recall_curve\n",
    "from sklearn.metrics import average_precision_score\n",
    "\n",
    "from tensorflow.keras.applications.inception_v3 import InceptionV3\n",
    "from tensorflow.keras.preprocessing.image import ImageDataGenerator\n",
    "from tensorflow.keras.preprocessing import image\n",
    "from tensorflow.keras.applications.inception_v3 import preprocess_input, decode_predictions\n",
    "\n",
    "from tensorflow.keras.models import Model\n",
    "from tensorflow.keras.layers import Dense, GlobalAveragePooling2D, BatchNormalization\n",
    "from tensorflow.keras import regularizers\n",
    "from tensorflow.keras import backend as K\n",
    "from keras.utils.layer_utils import count_params\n",
    "\n",
    "from tensorflow.keras.optimizers import Adam\n",
    "from tensorflow.keras import losses\n",
    "from tensorflow.keras.models import load_model\n",
    "from tensorflow.keras.callbacks import LearningRateScheduler\n",
    "from tensorflow.keras.callbacks import ReduceLROnPlateau\n",
    "from tensorflow.keras.callbacks import EarlyStopping\n",
    "from tensorflow.keras.callbacks import TensorBoard\n"
   ]
  },
  {
   "cell_type": "code",
   "execution_count": 137,
   "metadata": {},
   "outputs": [],
   "source": [
    "# Define Image Augmentation and Training Parameters\n",
    "\n",
    "class Config:\n",
    "    # Data Augmentation Parameters\n",
    "    DATA_AUG_ON = True\n",
    "    DATA_AUG_ROTATE = 20\n",
    "    DATA_AUG_FLIP = True\n",
    "    DATA_AUG_WIDTH_SHIFT = 0.2\n",
    "    DATA_AUG_HEIGHT_SHIFT = 0.2\n",
    "    DATA_AUG_ZOOM = 0.2\n",
    "    DATA_AUG_SHEAR = 0.2\n",
    "    # Epoch to start learning rate decay\n",
    "    MODEL_TRAIN_DECAY = True\n",
    "    MODEL_START_DECAY = 0\n",
    "    # Exponential Learning Rate Decay\n",
    "    MODEL_DECAY_EXPONENTIAL = True\n",
    "    MODEL_PERCENT_DECAY = 0.1\n",
    "    # Sigmoidal Learning Rate Decay\n",
    "    MODEL_DECAY_SIGMOID = False\n",
    "    # Drop-Based Learning Rate Decay\n",
    "    MODEL_DECAY_DROP = False\n",
    "    MODEL_DROP_RATE = 0.5\n",
    "    MODEL_EPOCH_DROP = 10\n",
    "    # General Model Parameters\n",
    "    MODEL_TRAIN_EPOCHS = [20]\n",
    "    MODEL_TRAIN_LEARN_RATE = [0.005]\n",
    "    MODEL_TRAIN_BATCH_SIZE = 32\n",
    "    MODEL_TRAIN_FIRST_TRAINABLE_LAYER = 250\n",
    "    \n",
    "config = Config()"
   ]
  },
  {
   "cell_type": "code",
   "execution_count": 138,
   "metadata": {},
   "outputs": [
    {
     "name": "stdout",
     "output_type": "stream",
     "text": [
      "Total Parameters: 21,942,177\n",
      "Trainable Parameters: 10,676,737\n",
      "Non-Trainable Parameters: 11,265,440\n"
     ]
    }
   ],
   "source": [
    "# Define Base Model\n",
    "\n",
    "base_model = InceptionV3(weights = 'imagenet', include_top = False)\n",
    "\n",
    "MODEL_TRAINABLE_BASE = True\n",
    "\n",
    "if MODEL_TRAINABLE_BASE:\n",
    "    base_model.trainable = True\n",
    "    if config.MODEL_TRAIN_FIRST_TRAINABLE_LAYER:\n",
    "        for layer in base_model.layers[:config.MODEL_TRAIN_FIRST_TRAINABLE_LAYER]:\n",
    "            layer.trainable = False\n",
    "        for layer in base_model.layers[config.MODEL_TRAIN_FIRST_TRAINABLE_LAYER:]:\n",
    "            layer.trainable = True\n",
    "else:\n",
    "    base_model.trainable = False\n",
    "\n",
    "x = base_model.output\n",
    "x = GlobalAveragePooling2D()(x)\n",
    "x = BatchNormalization()(x)\n",
    "x = Dense(64, activation = 'relu', kernel_regularizer = regularizers.l2(5e-3),\n",
    "                bias_regularizer = regularizers.l2(5e-3))(x)\n",
    "x = Dense(1, activation = 'sigmoid', name = 'output')(x)\n",
    "\n",
    "model = Model(inputs = base_model.input, outputs = x)\n",
    "\n",
    "# print(model.summary())\n",
    "\n",
    "trainable_count = count_params(model.trainable_weights)\n",
    "non_trainable_count = count_params(model.non_trainable_weights)\n",
    "print('Total Parameters: {:,}'.format(trainable_count + non_trainable_count))\n",
    "print('Trainable Parameters: {:,}'.format(trainable_count))\n",
    "print('Non-Trainable Parameters: {:,}'.format(non_trainable_count))"
   ]
  },
  {
   "cell_type": "code",
   "execution_count": 139,
   "metadata": {},
   "outputs": [
    {
     "name": "stdout",
     "output_type": "stream",
     "text": [
      "Found 2197 images belonging to 2 classes.\n",
      "Found 37 images belonging to 2 classes.\n",
      "Found 488 images belonging to 1 classes.\n"
     ]
    },
    {
     "data": {
      "text/plain": [
       "{'emptyChair': 0, 'inChair': 1}"
      ]
     },
     "execution_count": 139,
     "metadata": {},
     "output_type": "execute_result"
    }
   ],
   "source": [
    "if config.DATA_AUG_ON:\n",
    "    train_datagen = ImageDataGenerator(preprocessing_function = preprocess_input,\n",
    "                                       rotation_range = config.DATA_AUG_ROTATE,\n",
    "                                       horizontal_flip = config.DATA_AUG_FLIP,\n",
    "                                       width_shift_range = config.DATA_AUG_WIDTH_SHIFT,\n",
    "                                       height_shift_range = config.DATA_AUG_HEIGHT_SHIFT,\n",
    "                                       zoom_range = config.DATA_AUG_ZOOM,\n",
    "                                       shear_range = config.DATA_AUG_SHEAR)\n",
    "\n",
    "else:\n",
    "    train_datagen = ImageDataGenerator(preprocessing_function = preprocess_input)\n",
    "    \n",
    "valid_datagen = ImageDataGenerator(preprocessing_function = preprocess_input)\n",
    "test_datagen = ImageDataGenerator(preprocessing_function = preprocess_input)\n",
    "    \n",
    "train_generator = train_datagen.flow_from_directory('C:\\\\Users\\\\user\\\\chair_model\\\\training',\n",
    "                                              target_size = (299, 299),\n",
    "                                              color_mode = 'rgb',\n",
    "                                              classes = ['emptyChair', 'inChair'],\n",
    "                                              batch_size = config.MODEL_TRAIN_BATCH_SIZE,\n",
    "                                              seed = 724,\n",
    "                                              class_mode = 'binary',\n",
    "                                              shuffle = False)\n",
    "\n",
    "validation_generator = valid_datagen.flow_from_directory('C:\\\\Users\\\\user\\\\chair_model\\\\valid',\n",
    "                                              target_size = (299, 299),\n",
    "                                              color_mode = 'rgb',\n",
    "                                              classes = ['emptyChair', 'inChair'],\n",
    "                                              batch_size = config.MODEL_TRAIN_BATCH_SIZE,\n",
    "                                              seed = 724,\n",
    "                                              class_mode = 'binary',\n",
    "                                              shuffle = False)\n",
    "\n",
    "test_generator = test_datagen.flow_from_directory('C:\\\\Users\\\\user\\\\chair_model\\\\labVideos',\n",
    "                                              target_size = (299, 299),\n",
    "                                              color_mode = 'rgb',\n",
    "                                              batch_size = 1,\n",
    "                                              seed = 724,\n",
    "                                              class_mode = None,\n",
    "                                              shuffle = False)\n",
    "\n",
    "STEP_SIZE_TRAIN = train_generator.n//train_generator.batch_size\n",
    "STEP_SIZE_VALID = validation_generator.n//validation_generator.batch_size\n",
    "STEP_SIZE_TEST = test_generator.n//test_generator.batch_size\n",
    "\n",
    "train_generator.class_indices"
   ]
  },
  {
   "cell_type": "code",
   "execution_count": 140,
   "metadata": {},
   "outputs": [],
   "source": [
    "model.compile(optimizer = Adam(lr = config.MODEL_TRAIN_LEARN_RATE[0]),\n",
    "              loss = losses.BinaryCrossentropy(),\n",
    "              metrics = ['binary_accuracy'])"
   ]
  },
  {
   "cell_type": "code",
   "execution_count": 141,
   "metadata": {},
   "outputs": [
    {
     "data": {
      "image/png": "[encoded data removed]",
      "text/plain": [
       "<Figure size 432x288 with 1 Axes>"
      ]
     },
     "metadata": {
      "needs_background": "light"
     },
     "output_type": "display_data"
    }
   ],
   "source": [
    "# Learning Rate Decay Graph\n",
    "decay = []\n",
    "def scheduler(epoch):\n",
    "    learn_rate = config.MODEL_TRAIN_LEARN_RATE[0]\n",
    "    total_epochs = config.MODEL_TRAIN_EPOCHS[0]\n",
    "    \n",
    "    if config.MODEL_TRAIN_DECAY:\n",
    "        \n",
    "        if epoch < config.MODEL_START_DECAY:\n",
    "            value = learn_rate\n",
    "            decay.append(value)\n",
    "            return value\n",
    "        \n",
    "        else:\n",
    "            if config.MODEL_DECAY_EXPONENTIAL: \n",
    "                value = learn_rate * tf.math.exp(\n",
    "                        config.MODEL_PERCENT_DECAY * (config.MODEL_START_DECAY - epoch))\n",
    "                \n",
    "            if config.MODEL_DECAY_SIGMOID:\n",
    "                decay_rate = learn_rate / total_epochs\n",
    "                value = learn_rate * 1/(1 + decay_rate * epoch)\n",
    "                \n",
    "            if config.MODEL_DECAY_DROP:\n",
    "                value = learn_rate * np.power(\n",
    "                        config.MODEL_DROP_RATE, np.floor((1+epoch)/ config.MODEL_EPOCH_DROP))\n",
    "                \n",
    "            decay.append(value)\n",
    "            return value\n",
    "        \n",
    "    else:\n",
    "        return config.MODEL_TRAIN_LEARN_RATE[0]\n",
    "\n",
    "for x in np.arange(0, config.MODEL_TRAIN_EPOCHS[0] + 1):\n",
    "    scheduler(x)\n",
    "    \n",
    "plt.plot(np.linspace(0, config.MODEL_TRAIN_EPOCHS[0], config.MODEL_TRAIN_EPOCHS[0] + 1), decay)\n",
    "plt.xlabel('Epoch')\n",
    "plt.ylabel('Learning Rate')\n",
    "plt.title('Learning Rate Decay')\n",
    "plt.grid()\n",
    "plt.show()"
   ]
  },
  {
   "cell_type": "code",
   "execution_count": 142,
   "metadata": {
    "scrolled": true
   },
   "outputs": [
    {
     "name": "stdout",
     "output_type": "stream",
     "text": [
      "WARNING:tensorflow:sample_weight modes were coerced from\n",
      "  ...\n",
      "    to  \n",
      "  ['...']\n",
      "WARNING:tensorflow:sample_weight modes were coerced from\n",
      "  ...\n",
      "    to  \n",
      "  ['...']\n",
      "Train for 68 steps, validate for 1 steps\n",
      "Epoch 1/20\n",
      " 2/68 [..............................] - ETA: 3:56 - loss: 2.6704 - binary_accuracy: 0.4375"
     ]
    },
    {
     "name": "stderr",
     "output_type": "stream",
     "text": [
      "c:\\users\\user\\appdata\\local\\programs\\python\\python37\\lib\\site-packages\\PIL\\Image.py:932: UserWarning: Palette images with Transparency expressed in bytes should be converted to RGBA images\n",
      "  \"Palette images with Transparency expressed in bytes should be \"\n"
     ]
    },
    {
     "name": "stdout",
     "output_type": "stream",
     "text": [
      "67/68 [============================>.] - ETA: 1s - loss: 3.4864 - binary_accuracy: 0.5556\n",
      "Epoch Learning Rate:  0.005\n",
      "68/68 [==============================] - 78s 1s/step - loss: 3.4545 - binary_accuracy: 0.5575 - val_loss: 3.7823 - val_binary_accuracy: 0.6875\n",
      "Epoch 2/20\n",
      "67/68 [============================>.] - ETA: 1s - loss: 1.2485 - binary_accuracy: 0.7693\n",
      "Epoch Learning Rate:  0.0045241867\n",
      "68/68 [==============================] - 72s 1s/step - loss: 1.2365 - binary_accuracy: 0.7723 - val_loss: 1.6196 - val_binary_accuracy: 0.4688\n",
      "Epoch 3/20\n",
      "67/68 [============================>.] - ETA: 1s - loss: 0.7136 - binary_accuracy: 0.8397\n",
      "Epoch Learning Rate:  0.004093654\n",
      "68/68 [==============================] - 72s 1s/step - loss: 0.7076 - binary_accuracy: 0.8420 - val_loss: 0.8082 - val_binary_accuracy: 0.6562\n",
      "Epoch 4/20\n",
      "67/68 [============================>.] - ETA: 1s - loss: 0.4044 - binary_accuracy: 0.9198\n",
      "Epoch Learning Rate:  0.0037040906\n",
      "68/68 [==============================] - 72s 1s/step - loss: 0.4034 - binary_accuracy: 0.9201 - val_loss: 0.6011 - val_binary_accuracy: 0.7812\n",
      "Epoch 5/20\n",
      "67/68 [============================>.] - ETA: 1s - loss: 0.2864 - binary_accuracy: 0.9545\n",
      "Epoch Learning Rate:  0.0033516001\n",
      "68/68 [==============================] - 78s 1s/step - loss: 0.2858 - binary_accuracy: 0.9552 - val_loss: 0.4781 - val_binary_accuracy: 0.8125\n",
      "Epoch 6/20\n",
      "67/68 [============================>.] - ETA: 1s - loss: 0.2048 - binary_accuracy: 0.9756\n",
      "Epoch Learning Rate:  0.0030326534\n",
      "68/68 [==============================] - 76s 1s/step - loss: 0.2037 - binary_accuracy: 0.9760 - val_loss: 0.4660 - val_binary_accuracy: 0.7812\n",
      "Epoch 7/20\n",
      "67/68 [============================>.] - ETA: 1s - loss: 0.1844 - binary_accuracy: 0.9728\n",
      "Epoch Learning Rate:  0.002744058\n",
      "68/68 [==============================] - 76s 1s/step - loss: 0.1834 - binary_accuracy: 0.9732 - val_loss: 0.6243 - val_binary_accuracy: 0.7500\n",
      "Epoch 8/20\n",
      "67/68 [============================>.] - ETA: 1s - loss: 0.1286 - binary_accuracy: 0.9906\n",
      "Epoch Learning Rate:  0.0024829262\n",
      "68/68 [==============================] - 75s 1s/step - loss: 0.1280 - binary_accuracy: 0.9908 - val_loss: 0.6460 - val_binary_accuracy: 0.7500\n",
      "Epoch 9/20\n",
      "67/68 [============================>.] - ETA: 1s - loss: 0.1015 - binary_accuracy: 0.9930\n",
      "Epoch Learning Rate:  0.0022466448\n",
      "68/68 [==============================] - 75s 1s/step - loss: 0.1012 - binary_accuracy: 0.9931 - val_loss: 0.4281 - val_binary_accuracy: 0.8438\n",
      "Epoch 10/20\n",
      "67/68 [============================>.] - ETA: 1s - loss: 0.1368 - binary_accuracy: 0.9775\n",
      "Epoch Learning Rate:  0.0020328483\n",
      "68/68 [==============================] - 75s 1s/step - loss: 0.1368 - binary_accuracy: 0.9778 - val_loss: 2.9592 - val_binary_accuracy: 0.5312\n",
      "Epoch 11/20\n",
      "67/68 [============================>.] - ETA: 1s - loss: 0.1023 - binary_accuracy: 0.9939\n",
      "Epoch Learning Rate:  0.0018393972\n",
      "68/68 [==============================] - 74s 1s/step - loss: 0.1017 - binary_accuracy: 0.9940 - val_loss: 1.4577 - val_binary_accuracy: 0.5000\n",
      "Epoch 12/20\n",
      "67/68 [============================>.] - ETA: 1s - loss: 0.0761 - binary_accuracy: 0.9977\n",
      "Epoch Learning Rate:  0.0016643554\n",
      "68/68 [==============================] - 74s 1s/step - loss: 0.0757 - binary_accuracy: 0.9977 - val_loss: 1.1847 - val_binary_accuracy: 0.5000\n",
      "Epoch 13/20\n",
      "67/68 [============================>.] - ETA: 1s - loss: 0.0625 - binary_accuracy: 0.9977\n",
      "Epoch Learning Rate:  0.001505971\n",
      "68/68 [==============================] - 74s 1s/step - loss: 0.0623 - binary_accuracy: 0.9977 - val_loss: 0.6729 - val_binary_accuracy: 0.7188\n",
      "Epoch 14/20\n",
      "67/68 [============================>.] - ETA: 1s - loss: 0.0570 - binary_accuracy: 0.9986\n",
      "Epoch Learning Rate:  0.001362659\n",
      "68/68 [==============================] - 73s 1s/step - loss: 0.0568 - binary_accuracy: 0.9986 - val_loss: 0.5662 - val_binary_accuracy: 0.6875\n",
      "Epoch 15/20\n",
      "67/68 [============================>.] - ETA: 1s - loss: 0.0498 - binary_accuracy: 0.9991\n",
      "Epoch Learning Rate:  0.0012329848\n",
      "68/68 [==============================] - 72s 1s/step - loss: 0.0496 - binary_accuracy: 0.9991 - val_loss: 0.7420 - val_binary_accuracy: 0.6875\n",
      "Epoch 16/20\n",
      "67/68 [============================>.] - ETA: 1s - loss: 0.0447 - binary_accuracy: 1.0000\n",
      "Epoch Learning Rate:  0.0011156508\n",
      "68/68 [==============================] - 72s 1s/step - loss: 0.0446 - binary_accuracy: 1.0000 - val_loss: 0.6361 - val_binary_accuracy: 0.7188\n",
      "Epoch 17/20\n",
      "67/68 [============================>.] - ETA: 1s - loss: 0.0426 - binary_accuracy: 1.0000\n",
      "Epoch Learning Rate:  0.0010094825\n",
      "68/68 [==============================] - 72s 1s/step - loss: 0.0424 - binary_accuracy: 1.0000 - val_loss: 0.6377 - val_binary_accuracy: 0.7188\n",
      "Epoch 18/20\n",
      "67/68 [============================>.] - ETA: 1s - loss: 0.0389 - binary_accuracy: 1.0000\n",
      "Epoch Learning Rate:  0.00091341755\n",
      "68/68 [==============================] - 72s 1s/step - loss: 0.0388 - binary_accuracy: 1.0000 - val_loss: 0.6381 - val_binary_accuracy: 0.7188\n",
      "Epoch 19/20\n",
      "67/68 [============================>.] - ETA: 1s - loss: 0.0372 - binary_accuracy: 0.9995\n",
      "Epoch Learning Rate:  0.0008264945\n",
      "68/68 [==============================] - 73s 1s/step - loss: 0.0372 - binary_accuracy: 0.9995 - val_loss: 0.6391 - val_binary_accuracy: 0.6875\n",
      "Epoch 20/20\n",
      "67/68 [============================>.] - ETA: 1s - loss: 0.0353 - binary_accuracy: 1.0000\n",
      "Epoch Learning Rate:  0.00074784306\n",
      "68/68 [==============================] - 72s 1s/step - loss: 0.0353 - binary_accuracy: 1.0000 - val_loss: 0.6286 - val_binary_accuracy: 0.7188\n"
     ]
    }
   ],
   "source": [
    "train_generator.reset()\n",
    "validation_generator.reset()\n",
    "\n",
    "# DIFFERENT CALLBACK FUNCTIONS\n",
    "\n",
    "# Display Learning Rate Each Epoch\n",
    "class MyCallback(tf.keras.callbacks.Callback):\n",
    "    def on_epoch_end(self, epoch, logs=None):\n",
    "        lr = self.model.optimizer.lr\n",
    "        decay = self.model.optimizer.decay\n",
    "        iterations = self.model.optimizer.iterations\n",
    "        lr_with_decay = lr / (1. + decay * K.cast(iterations, K.dtype(decay)))\n",
    "        print('\\nEpoch Learning Rate: ', K.eval(lr_with_decay))\n",
    "        \n",
    "# Reduced learning rate when metric has stopped improving\n",
    "reduced_lr = ReduceLROnPlateau(monitor = 'val_loss', factor = 0.5,\n",
    "                               patience = 5, min_lr = 0.0001, verbose = 1)\n",
    "\n",
    "# Early stopping when monitored quantity has stopped improving\n",
    "early_stop = EarlyStopping()\n",
    "\n",
    "# Tensorboard Callback\n",
    "logdir = os.path.join('logs', datetime.datetime.now().strftime(\"%Y%m%d-%H%M%S\"))\n",
    "tensorboard_callback = TensorBoard(logdir, histogram_freq = 1)\n",
    "\n",
    "learning_rate_scheduler = LearningRateScheduler(scheduler, verbose = 0)\n",
    "call_learning_rate = MyCallback()\n",
    "\n",
    "history = model.fit_generator(generator = train_generator,\n",
    "                              steps_per_epoch = STEP_SIZE_TRAIN,\n",
    "                              validation_data = validation_generator,\n",
    "                              validation_steps = STEP_SIZE_VALID,\n",
    "                              epochs = config.MODEL_TRAIN_EPOCHS[0],\n",
    "                              callbacks = [learning_rate_scheduler, tensorboard_callback, call_learning_rate],\n",
    "                              verbose = 1)"
   ]
  },
  {
   "cell_type": "code",
   "execution_count": 143,
   "metadata": {},
   "outputs": [
    {
     "data": {
      "image/png": "[encoded data removed]",
      "text/plain": [
       "<Figure size 432x288 with 1 Axes>"
      ]
     },
     "metadata": {
      "needs_background": "light"
     },
     "output_type": "display_data"
    },
    {
     "data": {
      "image/png": "[encoded data removed]",
      "text/plain": [
       "<Figure size 432x288 with 1 Axes>"
      ]
     },
     "metadata": {
      "needs_background": "light"
     },
     "output_type": "display_data"
    }
   ],
   "source": [
    "plt.figure(1)\n",
    "\n",
    "plt.plot(history.history['binary_accuracy'], label = 'Training Accuracy')\n",
    "plt.plot(history.history['val_binary_accuracy'], label = 'Validation Accuracy')\n",
    "plt.title('Model Accuracy')\n",
    "plt.ylabel('Accuracy')\n",
    "plt.xlabel('Epoch')\n",
    "plt.legend()\n",
    "\n",
    "plt.figure(2)\n",
    "\n",
    "plt.plot(history.history['loss'], label = 'Training Loss')\n",
    "plt.plot(history.history['val_loss'], label = 'Validation Loss')\n",
    "plt.title('Model Loss')\n",
    "plt.ylabel('Loss')\n",
    "plt.xlabel('Epoch')\n",
    "plt.legend()\n",
    "plt.show()"
   ]
  },
  {
   "cell_type": "code",
   "execution_count": 144,
   "metadata": {},
   "outputs": [
    {
     "name": "stdout",
     "output_type": "stream",
     "text": [
      "488/488 [==============================] - 17s 34ms/step\n"
     ]
    }
   ],
   "source": [
    "# model = load_model('C:\\\\Users\\\\user\\\\saved_models\\\\basic_alldata_0.0001_25_250_1.h5')\n",
    "# model.evaluate_generator(generator = validation_generator, steps = STEP_SIZE_VALID, verbose = 1)\n",
    "\n",
    "test_generator.reset()\n",
    "pred = model.predict_generator(test_generator,\n",
    "                               steps = STEP_SIZE_TEST,\n",
    "                               verbose = 1)"
   ]
  },
  {
   "cell_type": "code",
   "execution_count": 145,
   "metadata": {},
   "outputs": [],
   "source": [
    "test_labels = []\n",
    "filenames = []\n",
    "for filename in os.listdir('C:\\\\Users\\\\user\\\\chair_model\\\\labVideos\\\\images'):\n",
    "    filenames.append(filename)\n",
    "    if 'empty' in filename or 'Empty' in filename:\n",
    "        test_labels.append(0)\n",
    "    else:\n",
    "        test_labels.append(1)"
   ]
  },
  {
   "cell_type": "code",
   "execution_count": 146,
   "metadata": {},
   "outputs": [
    {
     "data": {
      "image/png": "[encoded data removed]",
      "text/plain": [
       "<Figure size 432x288 with 1 Axes>"
      ]
     },
     "metadata": {
      "needs_background": "light"
     },
     "output_type": "display_data"
    },
    {
     "data": {
      "image/png": "[encoded data removed]",
      "text/plain": [
       "<Figure size 432x288 with 1 Axes>"
      ]
     },
     "metadata": {
      "needs_background": "light"
     },
     "output_type": "display_data"
    },
    {
     "data": {
      "image/png": "[encoded data removed]",
      "text/plain": [
       "<Figure size 432x288 with 1 Axes>"
      ]
     },
     "metadata": {
      "needs_background": "light"
     },
     "output_type": "display_data"
    }
   ],
   "source": [
    "accuracy = []\n",
    "for th in np.linspace(0, 1, 100):\n",
    "    pred_labels = (pred > th)\n",
    "    x = accuracy_score(pred_labels, test_labels)\n",
    "    accuracy.append(x)\n",
    "    \n",
    "plt.figure(1)\n",
    "plt.plot(np.linspace(0, 1, 100), accuracy)\n",
    "plt.xlabel('Threshold')\n",
    "plt.ylabel('Accuracy')\n",
    "plt.title('Binary Classification Accuracy at Various Thresholds')\n",
    "\n",
    "plt.figure(2)\n",
    "precision, recall, thresholds = precision_recall_curve(test_labels, pred)\n",
    "average_precision = average_precision_score(test_labels, pred)\n",
    "plt.plot(recall, precision)\n",
    "plt.xlabel('Recall')\n",
    "plt.ylabel('Precision')\n",
    "plt.title('2-class Precision-Recall Curve: AP = ''{0:0.2f}'.format(average_precision))\n",
    "\n",
    "fpr_keras, tpr_keras, thersholds_keras = roc_curve(test_labels, pred)\n",
    "auc_keras = auc(fpr_keras, tpr_keras)\n",
    "\n",
    "plt.figure(3)\n",
    "plt.plot([0, 1], [0, 1], 'k--')\n",
    "plt.plot(fpr_keras, tpr_keras, label = 'Keras (area = {:.3f})'.format(auc_keras))\n",
    "plt.xlabel('False Positive Rate')\n",
    "plt.ylabel('True Positive Rate')\n",
    "plt.title('ROC Curve')\n",
    "plt.legend(loc = 'best')\n",
    "plt.show()\n",
    "\n",
    "plt.show()"
   ]
  },
  {
   "cell_type": "code",
   "execution_count": 147,
   "metadata": {},
   "outputs": [
    {
     "name": "stdout",
     "output_type": "stream",
     "text": [
      "Confusion Matrix :\n",
      "[[216  28]\n",
      " [210  34]]\n",
      "Accuracy Score : 0.5122950819672131\n",
      "Report : \n",
      "              precision    recall  f1-score   support\n",
      "\n",
      "           0       0.51      0.89      0.64       244\n",
      "           1       0.55      0.14      0.22       244\n",
      "\n",
      "    accuracy                           0.51       488\n",
      "   macro avg       0.53      0.51      0.43       488\n",
      "weighted avg       0.53      0.51      0.43       488\n",
      "\n"
     ]
    },
    {
     "data": {
      "image/png": "[encoded data removed]",
      "text/plain": [
       "<Figure size 432x288 with 2 Axes>"
      ]
     },
     "metadata": {
      "needs_background": "light"
     },
     "output_type": "display_data"
    }
   ],
   "source": [
    "threshold = 0.9\n",
    "pred_labels = (pred > threshold).astype(int).flatten()\n",
    "\n",
    "cf_matrix = confusion_matrix(test_labels, pred_labels) \n",
    "  \n",
    "print('Confusion Matrix :')\n",
    "print(cf_matrix) \n",
    "print('Accuracy Score :', accuracy_score(test_labels, pred_labels))\n",
    "print('Report : ')\n",
    "print(classification_report(test_labels, pred_labels))\n",
    "\n",
    "plt.figure(1)\n",
    "group_names = ['True Neg', 'False Pos', 'False Neg', 'True Pos']\n",
    "group_counts = ['{0:0.0f}'.format(value) for value in cf_matrix.flatten()]\n",
    "group_percentages = ['{0:.2%}'.format(value) for value in cf_matrix.flatten()/np.sum(cf_matrix)]\n",
    "labels = [f'{v1}\\n{v2}\\n{v3}' for v1, v2, v3 in zip(group_names, group_counts, group_percentages)]\n",
    "labels = np.asarray(labels).reshape(2,2)\n",
    "sns.heatmap(cf_matrix, annot = labels, fmt='', cmap = 'Blues')\n",
    "plt.show()"
   ]
  },
  {
   "cell_type": "code",
   "execution_count": 148,
   "metadata": {},
   "outputs": [
    {
     "name": "stdout",
     "output_type": "stream",
     "text": [
      "C:\\Users\\user\\results\\results_5.csv\n"
     ]
    }
   ],
   "source": [
    "# Save prediction results with filename to csv\n",
    "import re\n",
    "\n",
    "if os.listdir('C:\\\\Users\\\\user\\\\results'): \n",
    "    sequence_number = int(re.findall('\\d+', max(os.listdir('C:\\\\Users\\\\user\\\\results')))[0]) + 1\n",
    "else:\n",
    "    sequence_number = 1\n",
    "\n",
    "d = {'Filenames': filenames, 'Prediction_' + str(sequence_number): pred_labels}\n",
    "results = pd.DataFrame(data = d)\n",
    "file_name = 'C:\\\\Users\\\\user\\\\results\\\\results_' + str(sequence_number) + '.csv'\n",
    "results.to_csv(file_name, index = False, header = True)\n",
    "print(file_name)"
   ]
  },
  {
   "cell_type": "code",
   "execution_count": null,
   "metadata": {},
   "outputs": [],
   "source": [
    "MODELFILENAME = 'basic_alldata_0.0001_25_250_1.h5'\n",
    "MODELPATH = 'C:\\\\Users\\\\user\\\\saved_models'\n",
    "model.save(os.path.join(MODELPATH, MODELFILENAME))"
   ]
  },
  {
   "cell_type": "code",
   "execution_count": null,
   "metadata": {},
   "outputs": [],
   "source": [
    "# write an annotated output video\n",
    "# number of predictions must match number of frames in the video\n",
    "OUTPUT_VIDEO_DIR = 'C:\\\\Users\\\\user\\\\chair_model'\n",
    "\n",
    "def create_output_video(\n",
    "    predictions,\n",
    "    input_vid_location,\n",
    "    out_location=OUTPUT_VIDEO_DIR,\n",
    "    frame_jump = 1,\n",
    "    out_name = None,\n",
    "):\n",
    "    \"\"\"take in a video and create an output video with annotated predictions on it\n",
    "\n",
    "    Parameters\n",
    "    ----------\n",
    "    predictions : list\n",
    "        list of predictions for every frame in the video\n",
    "    input_video_location : str\n",
    "        path to saved input fideo to run on\n",
    "    out_location : str\n",
    "        path to write the annotated video to\n",
    "    frame_jump : int\n",
    "        runt/ write predictions on every nth frame, 1 would be predicting writing to every frame\n",
    "    out_name : str\n",
    "        override path and file name to write the video to\n",
    "    Returns\n",
    "    -------\n",
    "    output_video_location: str\n",
    "        where the annotated video was written to\n",
    "\n",
    "    \"\"\"\n",
    "    # initialize the video stream, pointer to output video file, and\n",
    "    # frame dimensions\n",
    "    print(\"processing video :\", input_vid_location)\n",
    "\n",
    "    if out_name:\n",
    "        outputFileName = out_name\n",
    "    else:\n",
    "        outputFileName = \"annotated_\" + os.path.basename(input_vid_location)\n",
    "    output_video_location = os.path.join(out_location, outputFileName)\n",
    "\n",
    "    vs = cv2.VideoCapture(input_vid_location)\n",
    "\n",
    "    fps = vs.get(cv2.CAP_PROP_FPS)\n",
    "    length = int(vs.get(cv2.CAP_PROP_FRAME_COUNT))\n",
    "    if length != len(predictions):\n",
    "        print(\"frames and video length do not match. num frames = \", length)\n",
    "        return None\n",
    "\n",
    "    writer = None\n",
    "    (W, H) = (None, None)\n",
    "    # loop over frames from the video file stream\n",
    "    pred_count = 0\n",
    "    text = \"bed score prediction\"\n",
    "    while True:\n",
    "        # read the next frame from the file\n",
    "        (grabbed, frame) = vs.read()\n",
    "        # if the frame was not grabbed, then we have reached the end\n",
    "        # of the stream\n",
    "        if not grabbed:\n",
    "            break\n",
    "        # if the frame dimensions are empty, grab them\n",
    "        if W is None or H is None:\n",
    "            (H, W) = frame.shape[:2]\n",
    "        output = frame.copy()\n",
    "        # draw the activity on the output frame\n",
    "\n",
    "        if (pred_count % frame_jump) == 0:\n",
    "            text = f\"Chair Score: {predictions[pred_count]}\"\n",
    "            # print(\"writing prediction \", pred_count, text)\n",
    "        pred_count += 1\n",
    "        cv2.putText(output, text, (35, 50), cv2.FONT_HERSHEY_DUPLEX, 2, (0, 255, 0), 5)\n",
    "        # check if the video writer is None\n",
    "        if writer is None:\n",
    "            # initialize our video writer\n",
    "            fourcc = cv2.VideoWriter_fourcc(*\"MP4V\")\n",
    "            writer = cv2.VideoWriter(output_video_location, fourcc, fps, (W, H), True)\n",
    "\n",
    "        # write the output frame to disk\n",
    "        writer.write(output)\n",
    "        # print(\"wrote frame\")\n",
    "\n",
    "    # release the file pointers\n",
    "    print(\"[INFO] cleaning up...\")\n",
    "    if writer:\n",
    "        writer.release()\n",
    "        out = output_video_location\n",
    "    else:\n",
    "        out = output_img_location\n",
    "    vs.release()\n",
    "    return output_video_location"
   ]
  },
  {
   "cell_type": "code",
   "execution_count": null,
   "metadata": {},
   "outputs": [],
   "source": [
    "create_output_video(pred_labels[:1350], \n",
    "                    'C:\\\\Users\\\\user\\\\chair_model\\\\test_videos\\\\empty_chair_90.mp4')"
   ]
  },
  {
   "cell_type": "code",
   "execution_count": null,
   "metadata": {},
   "outputs": [],
   "source": [
    "# FFMPEG tool used to identify unique frames from video samples\n",
    "\n",
    "# !ffmpeg -i \"C:\\\\Users\\\\user\\\\chair_model\\\\videos\\\\empty_chair.mp4\" -vf \"select=gt(scene\\,0.003),setpts=N/(30*TB)\" \"C:\\\\Users\\\\user\\\\chair_model\\\\videos\\\\test.mp4\" \n"
   ]
  }
 ],
 "metadata": {
  "kernelspec": {
   "display_name": "Python 3",
   "language": "python",
   "name": "python3"
  },
  "language_info": {
   "codemirror_mode": {
    "name": "ipython",
    "version": 3
   },
   "file_extension": ".py",
   "mimetype": "text/x-python",
   "name": "python",
   "nbconvert_exporter": "python",
   "pygments_lexer": "ipython3",
   "version": "3.7.7"
  }
 },
 "nbformat": 4,
 "nbformat_minor": 4
}
